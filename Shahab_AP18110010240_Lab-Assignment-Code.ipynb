{
 "cells": [
  {
   "cell_type": "code",
   "execution_count": 2,
   "metadata": {},
   "outputs": [],
   "source": [
    "import requests\n",
    "import lxml\n",
    "from bs4 import BeautifulSoup"
   ]
  },
  {
   "cell_type": "code",
   "execution_count": 3,
   "metadata": {},
   "outputs": [],
   "source": [
    "uri = 'https://timesofindia.indiatimes.com/'"
   ]
  },
  {
   "cell_type": "code",
   "execution_count": 4,
   "metadata": {},
   "outputs": [],
   "source": [
    "req = requests.get(uri)"
   ]
  },
  {
   "cell_type": "code",
   "execution_count": 5,
   "metadata": {},
   "outputs": [],
   "source": [
    "s = BeautifulSoup(req.content,'lxml')"
   ]
  },
  {
   "cell_type": "code",
   "execution_count": 6,
   "metadata": {},
   "outputs": [],
   "source": [
    "data = s.find('div',{'class':\"_1A86C\"}).find_all('a',{'class':'linktype1'})\n"
   ]
  },
  {
   "cell_type": "code",
   "execution_count": 8,
   "metadata": {},
   "outputs": [
    {
     "name": "stdout",
     "output_type": "stream",
     "text": [
      "When Salim Khan decided to marry Helen\n",
      "\n",
      "Exclusive! Saira Banu remembers Dilip Kumar\n",
      "\n",
      "Team 'Cobra' shoots final schedule in Chennai\n",
      "\n",
      "Alia Bhatt’s incredible weight-loss journey\n",
      "\n",
      "Mimi Chakraborty's red hot style game\n",
      "\n",
      "Kangana Ranaut shares bold picture on Insta\n",
      "\n",
      "'90s looks of Karisma which are still cool\n",
      "\n",
      "Priyanka Chopra's secret to staying in shape\n",
      "\n",
      "VOTE for India's Harnaaz Sandhu!\n",
      "\n",
      "Then & Now pics of favourite TMKOC characters\n",
      "\n",
      "Delay in BB15 wildcard entries; here's why\n",
      "\n",
      "Aditya Narayan on why he chose to host shows\n",
      "\n",
      "Dhivya Bharathi's perfect guide to looking hot\n",
      "\n",
      "Times Pragya Jaiswal impressed fashion police\n",
      "\n"
     ]
    }
   ],
   "source": [
    "for i in data:\n",
    "    print(i.text, end='\\n\\n')\n",
    "    "
   ]
  },
  {
   "cell_type": "code",
   "execution_count": 9,
   "metadata": {},
   "outputs": [
    {
     "data": {
      "text/plain": [
       "14"
      ]
     },
     "execution_count": 9,
     "metadata": {},
     "output_type": "execute_result"
    }
   ],
   "source": [
    "len(data)"
   ]
  },
  {
   "cell_type": "code",
   "execution_count": 10,
   "metadata": {},
   "outputs": [
    {
     "data": {
      "text/plain": [
       "bs4.element.ResultSet"
      ]
     },
     "execution_count": 10,
     "metadata": {},
     "output_type": "execute_result"
    }
   ],
   "source": [
    "type(data)"
   ]
  },
  {
   "cell_type": "code",
   "execution_count": null,
   "metadata": {},
   "outputs": [],
   "source": []
  }
 ],
 "metadata": {
  "interpreter": {
   "hash": "64f5a7eeef9947814ec04949a988f5327e371fa8a9d0de3749f2573883b3da19"
  },
  "kernelspec": {
   "display_name": "Python 3",
   "language": "python",
   "name": "python3"
  },
  "language_info": {
   "codemirror_mode": {
    "name": "ipython",
    "version": 3
   },
   "file_extension": ".py",
   "mimetype": "text/x-python",
   "name": "python",
   "nbconvert_exporter": "python",
   "pygments_lexer": "ipython3",
   "version": "3.8.5"
  }
 },
 "nbformat": 4,
 "nbformat_minor": 2
}
