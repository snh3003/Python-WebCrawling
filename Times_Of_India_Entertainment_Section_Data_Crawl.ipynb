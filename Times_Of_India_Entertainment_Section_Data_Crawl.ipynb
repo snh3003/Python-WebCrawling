{
 "cells": [
  {
   "cell_type": "code",
   "execution_count": 2,
   "metadata": {},
   "outputs": [],
   "source": [
    "import requests\n",
    "import lxml\n",
    "from bs4 import BeautifulSoup"
   ]
  },
  {
   "cell_type": "code",
   "execution_count": 3,
   "metadata": {},
   "outputs": [],
   "source": [
    "uri = 'https://timesofindia.indiatimes.com/'"
   ]
  },
  {
   "cell_type": "code",
   "execution_count": 4,
   "metadata": {},
   "outputs": [],
   "source": [
    "req = requests.get(uri)"
   ]
  },
  {
   "cell_type": "code",
   "execution_count": 5,
   "metadata": {},
   "outputs": [],
   "source": [
    "s = BeautifulSoup(req.content,'lxml')"
   ]
  },
  {
   "cell_type": "code",
   "execution_count": 6,
   "metadata": {},
   "outputs": [],
   "source": [
    "data = s.find('div',{'class':\"_1A86C\"}).find_all('a',{'class':'linktype1'})\n"
   ]
  },
  {
   "cell_type": "code",
   "execution_count": 10,
   "metadata": {},
   "outputs": [
    {
     "name": "stdout",
     "output_type": "stream",
     "text": [
      "Salman Khan’s father Salim Khan is celebrating his 86th birthday today. The veteran producer and scriptwriter, who is known for his commendable works in the industry, has always equally been in the headlines for his personal life.\n",
      "\n",
      "While he lives happily with his two wives, kids and grandkids today, there was a time when his entire family was against his decision of marrying actress Helen. Yes, you read that right! Salim, who had tied the knot with Sushila Charak aka Salma in 1964, had four children with her. Later in 1981, the writer announced his decision to marry Helen. Initially, his entire family was against his decision. However, when Salma accepted Salim’s relationship with Helen, her kids followed suit.\n",
      "\n",
      "\n",
      "Read AlsoSalman Khan's on 'end of the superstars' era': It will always be there, we will not leave it for the younger generation to take it easily\n",
      "\n",
      "In a throwback interview, Salma had revealed she too was initially disappointed and depressed by Salim’s second marriage. She added that her children Salman, Arbaaz, Sohail, and Alvira did not even talk to Helen. However, after quite some time, she and her children accepted it and now Helen is a part of their family.\n",
      "\n",
      "\n",
      "Read AlsoSalman Khan confirms his passion project, 'Salman Talkies' theatre chain is still on the cards; says 'it was put on hold because of the pandemic' - Exclusive!\n",
      "\n",
      "While Salim’s children found another mother in Helen, the veteran actress found her family in them. That is reportedly one of the reasons why they never had their own children. They instead adopted a baby girl, Arpita Khan.\n",
      "\n",
      "Meanwhile, on the work front, Salman is awaiting the release of his film, ‘Antim: The Final truth’ co-starring his brother-in-law Aayush Sharma in a lead role. Directed by Mahesh Manjrekar, the film is all set to hit the theatres on November 26. It will be locking horns with John Abraham’s ‘Satyameva Jayate 2’ at the box-office. \n",
      "\n",
      "\n",
      "\n",
      "\n",
      "The International Film Festival of India (IFFI) in Goa paid tribute to the late Dilip Kumar and ETimes reached out to Saira Banu to chronicle her reaction. Though she was busy with other commitments, Sairaji took time out and wrote an insightful and interesting article on Dilip Kumar and his contribution to Indian Cinema. Here are excerpts from her exclusive article. Read on: \n",
      "\n",
      "\n",
      "Saheb’s contribution to Indian Cinema\n",
      "“Dilip Kumar’s greatest contribution is the change he brought about in histrionics at a time when actors were being applauded for their loud and theatrical acting. With his subtle acting, his refined body language, his facial expressions and the intensity of his soft, beautifully modulated voice he conveyed the feelings and thoughts of the characters he portrayed on the screen in a way that pleased the viewers and touched their hearts. The self-taught, young Dilip Kumar had to take a conscious risk when he broke the norms of acting as it was and evolved his own style of natural acting. As Ashok Kumar put it, “Acting that surprised anyone who watched him, because he didn’t appear to be acting. He was so natural that he appeared to be living the character in flesh and blood on the screen”. Until then it was customary for actors to resort to loud histrionics that added to the immediate response of a live audience in a theatre during a live performance.\n",
      "\n",
      "Dilip Saheb was the first actor to understand the difference between the communication of the two mediums. The live theatre, which preceded the cinema theatre, demanded a certain energy in the performance of the actors while the cinema theatre demanded a subtlety and refinement in the performance of actors because it was not catering to the immediate response of a live audience. In his autobiography, The Substance and the Shadow, Dilip Saheb has painstakingly detailed his quest for pointers that could help him acquire the finesse he saw in the performance of actors he admired in the foreign films he watched during his early formative years at Bombay Talkies. Yet he didn’t replicate any actor’s style or method. \n",
      "\n",
      "While his friend and colleague Raj Kapoor was closely following the great Charlie Chaplin and Dev Anand was looking up to Gregory Peck, there was no one to whom he could turn simply because he was determined to be his own teacher and mould himself in his own way. Little did he know then that he would be the icon to three generations of actors in the country.\n",
      "\n",
      "He has clearly stated that he began his search for a “method” in his own interpretation of characters long before Marlon Brando came up with method acting. \n",
      "\n",
      "Dilip Saheb was the first actor in Indian cinema who understood that a film was a product created by the collective contribution of varied skills. He chose to work in one film at a time because he felt an actor’s contribution did not end with his hard work in front of the camera. He was convinced that an actor had a responsibility to ensure the success of the product in the fickle film market. He initiated the trend of involvement in the overall making and packaging and selling of the movie as a product in the Indian and overseas markets.”\n",
      "\n",
      "\n",
      "A responsible star\n",
      "“Long before we even heard the term CSR (Corporate Social Responsibility) Dilip Saheb initiated the practice of the industry coming together to help fund collections of the government each time a catastrophe caused millions of lives to fall apart in the country. He took the lead in organising events that raked in substantial amounts of money by enlisting the support of fellow stars and the different sectors of the industry as a “social responsibility”.\n",
      "\n",
      "Very few probably know that the Film City was his idea and the result of his persistent pressure on the State government. Many do not know that the Nehru Centre was his idea and he presented the proposal along with his dear friend Rajni Patel to Mrs Indira Gandhi who greenlit the project immediately. Dilip Saheb’s wish was to bring Art and Science to the same platform for mutual benefit. \n",
      "\n",
      "It was Dilip Saheb who energised The National Association of the Blind and gave it all the time he could spare, as its chairman, to swell its funds in order to acquire all the tools necessary for the blind to acquire formal education and skills to lead with dignity and confidence. \n",
      "\n",
      "Dilip Saheb also initiated the setting up of the Film Industry Welfare Trust to create a funding institution to help the workers of the industry and their families post retirement. He felt that filmmakers and the well-to-do members of the entertainment industry owed it to the men and women working quietly behind the cameras as technicians and their assistants besides countless others involved in the making of films needed financial support to raise their children and provide for the family, after they had called it a day and slipped into oblivion.” \n",
      "\n",
      "\n",
      "Inspiring as always\n",
      "“On the personal front, not many know that it was Dilip Saheb who motivated and encouraged me to follow my heart and create a fund for providing medical assistance and daily necessities to genuinely needy people who had no earning capacity. The charity trust WORCS (Welfare Organisation for Care & Relief Services) supports over 50 families living below the poverty line.”\n",
      "\n",
      "\n",
      "\n",
      "\n",
      "Due to the pandemic, a couple of Vikram's films have got delayed. However, there is a piece of good news for the fans as the final schedule of his film 'Cobra' has finally begun at green matte studio in Chennai. The final schedule of 'Cobra' was delayed for a long due to COVID restrictions in other countries as the team had planned to shoot a major portion abroad. But now the team has altered their plan and the final schedule of 'Cobra' has begun in a studio in Chennai instead of shooting an outdoor shoot. The team is shooting for the last leg of the film.\n",
      "\n",
      "\n",
      "Final Schedule ! #Cobra #ChiyaanVikram @IrfanPathan @AjayGnanamuthu @arrahman @SrinidhiShetty7 @7screenstudio https://t.co/hUPBRZj4Ac&mdash; #COBRA (@CobraFilmOffl) 1637679024000\n",
      "Director Ajay Gnanamuthu has confirmed the commencement of the 'Cobra' final schedule by sharing a picture from the set through his Instagram story. Meanwhile, fans are to hear an update regarding 'Cobra' after six months. 'Cobra' might hit the big screens in Summer 2022, and the exact date will be decided according to the release of Vikram's other film 'Ponniyin Selvan', which is directed by Mani Ratnam.\n",
      "\n",
      "\n",
      "Read AlsoVideo: Sathish plays a prank on Pavithra on the sets of 'Naai Sekar'\n",
      "Vikram will be seen in several different looks in 'Cobra', and he has already impressed the fans with his stunning looks in the first look poster and teaser. 'Cobra' also features Srinidhi Shetty, Irfan Pathan, Miya George, KS Ravi Kumar, and others, and the film produced by Seven Screen Studio has music scored by AR Rahman. \n",
      "\n",
      "\n",
      "\n",
      "\n"
     ]
    },
    {
     "ename": "AttributeError",
     "evalue": "'NoneType' object has no attribute 'find_all'",
     "output_type": "error",
     "traceback": [
      "\u001b[1;31m---------------------------------------------------------------------------\u001b[0m",
      "\u001b[1;31mAttributeError\u001b[0m                            Traceback (most recent call last)",
      "\u001b[1;32m<ipython-input-10-7707363f9312>\u001b[0m in \u001b[0;36m<module>\u001b[1;34m\u001b[0m\n\u001b[0;32m      3\u001b[0m     \u001b[0mreq\u001b[0m \u001b[1;33m=\u001b[0m \u001b[0mrequests\u001b[0m\u001b[1;33m.\u001b[0m\u001b[0mget\u001b[0m\u001b[1;33m(\u001b[0m\u001b[0mi\u001b[0m\u001b[1;33m[\u001b[0m\u001b[1;34m'href'\u001b[0m\u001b[1;33m]\u001b[0m\u001b[1;33m)\u001b[0m\u001b[1;33m\u001b[0m\u001b[1;33m\u001b[0m\u001b[0m\n\u001b[0;32m      4\u001b[0m     \u001b[0ms\u001b[0m \u001b[1;33m=\u001b[0m \u001b[0mBeautifulSoup\u001b[0m\u001b[1;33m(\u001b[0m\u001b[0mreq\u001b[0m\u001b[1;33m.\u001b[0m\u001b[0mcontent\u001b[0m\u001b[1;33m,\u001b[0m \u001b[1;34m'lxml'\u001b[0m\u001b[1;33m)\u001b[0m\u001b[1;33m\u001b[0m\u001b[1;33m\u001b[0m\u001b[0m\n\u001b[1;32m----> 5\u001b[1;33m     \u001b[0mnewData\u001b[0m \u001b[1;33m=\u001b[0m \u001b[0ms\u001b[0m\u001b[1;33m.\u001b[0m\u001b[0mfind\u001b[0m\u001b[1;33m(\u001b[0m\u001b[1;34m'div'\u001b[0m\u001b[1;33m,\u001b[0m \u001b[1;33m{\u001b[0m\u001b[1;34m'class'\u001b[0m\u001b[1;33m:\u001b[0m\u001b[1;34m'article_content clearfix'\u001b[0m\u001b[1;33m}\u001b[0m\u001b[1;33m)\u001b[0m\u001b[1;33m.\u001b[0m\u001b[0mfind_all\u001b[0m\u001b[1;33m(\u001b[0m\u001b[1;34m'div'\u001b[0m\u001b[1;33m,\u001b[0m \u001b[1;33m{\u001b[0m\u001b[1;34m'class'\u001b[0m\u001b[1;33m:\u001b[0m \u001b[1;34m'Normal'\u001b[0m\u001b[1;33m}\u001b[0m\u001b[1;33m)\u001b[0m\u001b[1;33m\u001b[0m\u001b[1;33m\u001b[0m\u001b[0m\n\u001b[0m\u001b[0;32m      6\u001b[0m     \u001b[0mfName\u001b[0m \u001b[1;33m=\u001b[0m \u001b[1;34m''\u001b[0m\u001b[1;33m.\u001b[0m\u001b[0mjoin\u001b[0m\u001b[1;33m(\u001b[0m\u001b[0mi\u001b[0m\u001b[1;33m.\u001b[0m\u001b[0mtext\u001b[0m\u001b[1;33m.\u001b[0m\u001b[0msplit\u001b[0m\u001b[1;33m(\u001b[0m\u001b[1;33m)\u001b[0m\u001b[1;33m[\u001b[0m\u001b[1;33m:\u001b[0m\u001b[1;36m3\u001b[0m\u001b[1;33m]\u001b[0m\u001b[1;33m)\u001b[0m\u001b[1;33m\u001b[0m\u001b[1;33m\u001b[0m\u001b[0m\n\u001b[0;32m      7\u001b[0m     \u001b[1;32mfor\u001b[0m \u001b[0mj\u001b[0m \u001b[1;32min\u001b[0m \u001b[0mnewData\u001b[0m\u001b[1;33m:\u001b[0m\u001b[1;33m\u001b[0m\u001b[1;33m\u001b[0m\u001b[0m\n",
      "\u001b[1;31mAttributeError\u001b[0m: 'NoneType' object has no attribute 'find_all'"
     ]
    }
   ],
   "source": [
    "for i in data:\n",
    "#     print(i.text)\n",
    "    req = requests.get(i['href'])\n",
    "    s = BeautifulSoup(req.content, 'lxml')\n",
    "    newData = s.find('div', {'class':'article_content clearfix'}).find_all('div', {'class': 'Normal'})\n",
    "    fName = ''.join(i.text.split()[:3])\n",
    "    for j in newData:\n",
    "        print(j.text, end=\"\\n\")\n",
    "        with open('%s.txt'%(fName), 'w') as f:\n",
    "            f.write(j.text)\n",
    "    print('\\n')\n",
    "    "
   ]
  },
  {
   "cell_type": "code",
   "execution_count": 11,
   "metadata": {},
   "outputs": [
    {
     "data": {
      "text/plain": [
       "14"
      ]
     },
     "execution_count": 11,
     "metadata": {},
     "output_type": "execute_result"
    }
   ],
   "source": [
    "len(data)"
   ]
  },
  {
   "cell_type": "code",
   "execution_count": 12,
   "metadata": {},
   "outputs": [
    {
     "data": {
      "text/plain": [
       "bs4.element.ResultSet"
      ]
     },
     "execution_count": 12,
     "metadata": {},
     "output_type": "execute_result"
    }
   ],
   "source": [
    "type(data)"
   ]
  },
  {
   "cell_type": "code",
   "execution_count": null,
   "metadata": {},
   "outputs": [],
   "source": []
  }
 ],
 "metadata": {
  "interpreter": {
   "hash": "64f5a7eeef9947814ec04949a988f5327e371fa8a9d0de3749f2573883b3da19"
  },
  "kernelspec": {
   "display_name": "Python 3",
   "language": "python",
   "name": "python3"
  },
  "language_info": {
   "codemirror_mode": {
    "name": "ipython",
    "version": 3
   },
   "file_extension": ".py",
   "mimetype": "text/x-python",
   "name": "python",
   "nbconvert_exporter": "python",
   "pygments_lexer": "ipython3",
   "version": "3.8.5"
  }
 },
 "nbformat": 4,
 "nbformat_minor": 2
}
