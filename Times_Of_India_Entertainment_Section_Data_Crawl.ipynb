{
 "cells": [
  {
   "cell_type": "code",
   "execution_count": 1,
   "metadata": {},
   "outputs": [],
   "source": [
    "import requests\n",
    "import lxml\n",
    "from bs4 import BeautifulSoup"
   ]
  },
  {
   "cell_type": "code",
   "execution_count": 2,
   "metadata": {},
   "outputs": [],
   "source": [
    "uri = 'https://timesofindia.indiatimes.com/'"
   ]
  },
  {
   "cell_type": "code",
   "execution_count": 3,
   "metadata": {},
   "outputs": [],
   "source": [
    "req = requests.get(uri)"
   ]
  },
  {
   "cell_type": "code",
   "execution_count": 4,
   "metadata": {},
   "outputs": [],
   "source": [
    "s = BeautifulSoup(req.content,'lxml')"
   ]
  },
  {
   "cell_type": "code",
   "execution_count": 5,
   "metadata": {},
   "outputs": [],
   "source": [
    "data = s.find('div',{'class':\"_1A86C\"}).find_all('a',{'class':'linktype1'})\n"
   ]
  },
  {
   "cell_type": "code",
   "execution_count": 31,
   "metadata": {},
   "outputs": [
    {
     "name": "stdout",
     "output_type": "stream",
     "text": [
      "Neena Gupta shared a video on Instagram with her fans today where she shares an interesting line she recently read in a book by a famous author.\n",
      "\n",
      "\n",
      "Check out the video here:\n",
      "\n",
      "\n",
      "\n",
      "        View this post on Instagram            A post shared by Neena Gupta (@neena_gupta) \n",
      "\n",
      "\n",
      "\n",
      "In the video, the actress is seen warning against falling in love with a married man. She also suggested that only tears are in store for such people.\n",
      "\n",
      "Last year, Neena had shared a video where she had spoken in detail about this topic. In the video, she spoke about how a man would convince you that he is not getting along with his wife but is not ending the marriage because of the children. Going on holidays would be tough, as he would have to lie to his family, and so would spending the nights.\n",
      "\n",
      "\n",
      "Read AlsoNeena Gupta: Masaba has taught me a lot. I never talked to my mother about anything!\n",
      "\n",
      "Elaborating further, she added that at some point, you would want to marry the man and ask him to divorce his wife. At first, he would make excuses saying that property and bank accounts are involved. She said that you would get ‘panicky’ and ‘frustrated’, and eventually, the man would ask you to leave.\n",
      "\n",
      "She had captioned the video, ‘Do not fall in love with a married man. I have done this before, I have suffered. That’s why I am telling my friends, you all, try not to do it.’\n",
      "\n",
      "On the work front, Neena will next be seen in Vikas Bahl’s ‘Goodbye’ where she will be seen sharing the screen space with none other than Amitabh Bachchan. The movie will also star Rashmika Mandanna and Pavail Gulati in key roles.\n",
      "\n",
      "\n",
      "\n",
      "\n",
      "Raj Anmol took to his Twitter handle to share a sneak peek of his son Veer’s first birthday party that was only attended by his close family members.\n",
      "\n",
      "\n",
      "Check out the pictures here:\n",
      "\n",
      "VEER Had a Small Knit Animal Theme Birthday... We couldn't invite any one but immediate family members .. because… https://t.co/IjHTy8yiwX&mdash; RJ Anmol  (@rjanmol) 1635919547000\n",
      "\n",
      "Along with the pictures, he wrote, ‘VEER Had a Small Knit Animal Theme Birthday...\n",
      "We couldn't invite any one but immediate family members .. because Veer's Momi is not Vaccinated as per Our pediatricians guidelines!! We Seek Your Blessings #veer’\n",
      "\n",
      "Amongst the pictures is an animal-themed cake. The cake has several animals like Lion, Zebra, Elephant sitting on the top. He also gave us a glimpse of the decoration they had done for the intimate bash. There are also animal-shaped balloons on all sides.\n",
      "\n",
      "\n",
      "Read AlsoAmrita Rao: Motherhood is about surprising yourself with the strength you never knew you had\n",
      "\n",
      "In an interview with the Bombay Times, Amrita Rao spoke about how her life has changed after Veer’s arrival. Amrita said, “Your schedule is never yours because the baby is now your boss! I haven’t slept for eight hours at a stretch in the last 18 months. I haven’t had coffee or eaten many yummy things that won’t suit his stomach. Along with my work schedule, I balance his schedule and prepare all his baby food. Now, seeing a new place or eating something nice doesn’t feel complete without him. It’s amazing that now I know exactly what Veer wants every time he cries. Motherhood is about surprising yourself with the strength you never knew you had.”\n",
      "\n",
      "The actress concluded by saying, “Motherhood is about surprising yourself with the strength you never knew you had.”\n",
      "\n",
      "\n",
      "\n",
      "\n",
      "Anushka Shama and Virat Kohli are often trolled on social media after the Indian cricket team loses a match. Recently, after the squad lost two matches at the ongoing T-20 World Cup, netizens trolled the power couple and their 10-month-old daughter Vamika also received online threats. Calling out all the trolls, actor Abhinav wrote, “Threats against a 10-month-old kid by some people is the new low we have achieved!”\n",
      "\n",
      "\n",
      "\n",
      "Previously, the Delhi Commission for Women had taken suo otu cognizance of media reports of threats to Vamika. The commission had sent a notice to Delhi Police asking to submit the copy of the FIR registered in the matter. “We are analysing the twitter handles and are checking who they belonged too. A case has not been registered but we are investigating the matter,\" a senior police officer had told TOI.\n",
      "\n",
      "\n",
      "Read AlsoTwitter has a field day sharing memes on Anushka Sharma as a cricketer by the same name plays for U-19 Women's Challenger Trophy\n",
      "Anushka and Virat turned parents to Vamika in January this year. The couple have decided not to expose their daughter to social media and even when they post Vamika’s pictures, her face is not revealed. Speaking about their decision, Virat had shared on Instagram, “We have decided as a couple to not expose our child to social media before she has an understanding of what social media is and can make her own choice.\" On the work front, Anushka is yet to announce her next movie. However, she is producing 'Qala', which marks late actor Irrfan Khan's son Babil's debut. Reports suggest that Anushka has signed up to play the lead in cricketer Jhula Goswami’s biopic, however the actress is yet to confirm the same.\n",
      "\n",
      "\n",
      "\n"
     ]
    },
    {
     "ename": "AttributeError",
     "evalue": "'NoneType' object has no attribute 'find_all'",
     "output_type": "error",
     "traceback": [
      "\u001b[1;31m---------------------------------------------------------------------------\u001b[0m",
      "\u001b[1;31mAttributeError\u001b[0m                            Traceback (most recent call last)",
      "\u001b[1;32m<ipython-input-31-172ae3500aa1>\u001b[0m in \u001b[0;36m<module>\u001b[1;34m\u001b[0m\n\u001b[0;32m      2\u001b[0m     \u001b[0mreq\u001b[0m \u001b[1;33m=\u001b[0m \u001b[0mrequests\u001b[0m\u001b[1;33m.\u001b[0m\u001b[0mget\u001b[0m\u001b[1;33m(\u001b[0m\u001b[0mi\u001b[0m\u001b[1;33m[\u001b[0m\u001b[1;34m'href'\u001b[0m\u001b[1;33m]\u001b[0m\u001b[1;33m)\u001b[0m\u001b[1;33m\u001b[0m\u001b[1;33m\u001b[0m\u001b[0m\n\u001b[0;32m      3\u001b[0m     \u001b[0ms\u001b[0m \u001b[1;33m=\u001b[0m \u001b[0mBeautifulSoup\u001b[0m\u001b[1;33m(\u001b[0m\u001b[0mreq\u001b[0m\u001b[1;33m.\u001b[0m\u001b[0mcontent\u001b[0m\u001b[1;33m,\u001b[0m \u001b[1;34m'lxml'\u001b[0m\u001b[1;33m)\u001b[0m\u001b[1;33m\u001b[0m\u001b[1;33m\u001b[0m\u001b[0m\n\u001b[1;32m----> 4\u001b[1;33m     \u001b[0mnewData\u001b[0m \u001b[1;33m=\u001b[0m \u001b[0ms\u001b[0m\u001b[1;33m.\u001b[0m\u001b[0mfind\u001b[0m\u001b[1;33m(\u001b[0m\u001b[1;34m'div'\u001b[0m\u001b[1;33m,\u001b[0m \u001b[1;33m{\u001b[0m\u001b[1;34m'class'\u001b[0m\u001b[1;33m:\u001b[0m\u001b[1;34m'article_content clearfix'\u001b[0m\u001b[1;33m}\u001b[0m\u001b[1;33m)\u001b[0m\u001b[1;33m.\u001b[0m\u001b[0mfind_all\u001b[0m\u001b[1;33m(\u001b[0m\u001b[1;34m'div'\u001b[0m\u001b[1;33m,\u001b[0m \u001b[1;33m{\u001b[0m\u001b[1;34m'class'\u001b[0m\u001b[1;33m:\u001b[0m \u001b[1;34m'Normal'\u001b[0m\u001b[1;33m}\u001b[0m\u001b[1;33m)\u001b[0m\u001b[1;33m\u001b[0m\u001b[1;33m\u001b[0m\u001b[0m\n\u001b[0m\u001b[0;32m      5\u001b[0m     \u001b[0mfName\u001b[0m \u001b[1;33m=\u001b[0m \u001b[1;34m''\u001b[0m\u001b[1;33m.\u001b[0m\u001b[0mjoin\u001b[0m\u001b[1;33m(\u001b[0m\u001b[0mi\u001b[0m\u001b[1;33m.\u001b[0m\u001b[0mtext\u001b[0m\u001b[1;33m.\u001b[0m\u001b[0msplit\u001b[0m\u001b[1;33m(\u001b[0m\u001b[1;33m)\u001b[0m\u001b[1;33m[\u001b[0m\u001b[1;33m:\u001b[0m\u001b[1;36m3\u001b[0m\u001b[1;33m]\u001b[0m\u001b[1;33m)\u001b[0m\u001b[1;33m\u001b[0m\u001b[1;33m\u001b[0m\u001b[0m\n\u001b[0;32m      6\u001b[0m     \u001b[1;32mfor\u001b[0m \u001b[0mj\u001b[0m \u001b[1;32min\u001b[0m \u001b[0mnewData\u001b[0m\u001b[1;33m:\u001b[0m\u001b[1;33m\u001b[0m\u001b[1;33m\u001b[0m\u001b[0m\n",
      "\u001b[1;31mAttributeError\u001b[0m: 'NoneType' object has no attribute 'find_all'"
     ]
    }
   ],
   "source": [
    "for i in data:\n",
    "    req = requests.get(i['href'])\n",
    "    s = BeautifulSoup(req.content, 'lxml')\n",
    "    newData = s.find('div', {'class':'article_content clearfix'}).find_all('div', {'class': 'Normal'})\n",
    "    fName = ''.join(i.text.split()[:3])\n",
    "    for j in newData:\n",
    "        print(j.text, end=\"\\n\")\n",
    "        with open('%s.txt'%(fName), 'w') as f:\n",
    "            f.write(j.text)\n",
    "    print('\\n')\n",
    "    "
   ]
  },
  {
   "cell_type": "code",
   "execution_count": 29,
   "metadata": {},
   "outputs": [
    {
     "data": {
      "text/plain": [
       "14"
      ]
     },
     "execution_count": 29,
     "metadata": {},
     "output_type": "execute_result"
    }
   ],
   "source": [
    "len(data)"
   ]
  },
  {
   "cell_type": "code",
   "execution_count": 23,
   "metadata": {},
   "outputs": [
    {
     "data": {
      "text/plain": [
       "bs4.element.ResultSet"
      ]
     },
     "execution_count": 23,
     "metadata": {},
     "output_type": "execute_result"
    }
   ],
   "source": []
  },
  {
   "cell_type": "code",
   "execution_count": null,
   "metadata": {},
   "outputs": [],
   "source": []
  }
 ],
 "metadata": {
  "interpreter": {
   "hash": "64f5a7eeef9947814ec04949a988f5327e371fa8a9d0de3749f2573883b3da19"
  },
  "kernelspec": {
   "display_name": "Python 3",
   "language": "python",
   "name": "python3"
  },
  "language_info": {
   "codemirror_mode": {
    "name": "ipython",
    "version": 3
   },
   "file_extension": ".py",
   "mimetype": "text/x-python",
   "name": "python",
   "nbconvert_exporter": "python",
   "pygments_lexer": "ipython3",
   "version": "3.8.5"
  }
 },
 "nbformat": 4,
 "nbformat_minor": 2
}
